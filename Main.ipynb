{
 "cells": [
  {
   "cell_type": "code",
   "execution_count": 11,
   "id": "5d2e2ba5",
   "metadata": {},
   "outputs": [
    {
     "name": "stdout",
     "output_type": "stream",
     "text": [
      "        month  Pressure  Tdry  Relative Humidity  Cloud Cover  Rain Day  \\\n",
      "18628       1    1012.3   5.2                 89            2         1   \n",
      "18629       1     994.0   5.1                 80            5         1   \n",
      "18630       1    1008.2   2.1                 96            3         1   \n",
      "18631       1    1006.4   0.3                 94            0         0   \n",
      "18632       1    1014.8   0.4                 95            8         1   \n",
      "...       ...       ...   ...                ...          ...       ...   \n",
      "42077       3    1011.9   3.0                 91            6         1   \n",
      "42078       3    1001.7  10.0                 86            8         0   \n",
      "42079       3     998.7  11.0                 91            8         1   \n",
      "42080       3    1000.0  10.0                 93            8         1   \n",
      "42081       3    1010.3   7.5                 72            4         0   \n",
      "\n",
      "       Hours of Sun  \n",
      "18628           1.0  \n",
      "18629           5.1  \n",
      "18630           4.5  \n",
      "18631           5.2  \n",
      "18632           0.0  \n",
      "...             ...  \n",
      "42077           0.8  \n",
      "42078           2.1  \n",
      "42079           3.3  \n",
      "42080           1.9  \n",
      "42081           1.3  \n",
      "\n",
      "[21839 rows x 7 columns]\n"
     ]
    }
   ],
   "source": [
    "import tensorflow as tf\n",
    "from tensorflow import keras\n",
    "from keras.layers import Dense, Normalization\n",
    "import pandas as pd\n",
    "from datetime import date\n",
    "import xgboost as xgb\n",
    "import numpy as np\n",
    "\n",
    "# Plan is to predict whether or not it was a rain day based on the temperature, cloud coverage and humidity. \n",
    "\n",
    "df = pd.read_csv('isRainDay3.csv')\n",
    "df = df.drop(columns=[\" dow\",\" ObsCode\",\" dcnn\",\" hol\",\" day\", \"year\"]) # Drop unnecessary columns\n",
    "df = df.rename(columns={\"N8\": \"Cloud Cover\", \"RH\": \"Relative Humidity\", \"rd\": \"Rain Day\",\n",
    "                        \"sss\": \"Hours of Sun\", \"Pstn\": \"Pressure\"}, errors=\"raise\")\n",
    "df = df.loc[(df[\"Relative Humidity\"] != \"x\") & (df[\"Cloud Cover\"] != \"OBS\") & (df[\"Cloud Cover\"] != \"x\")\n",
    "           & (df[\"Pressure\"] != \"x\") & (df[\"Hours of Sun\"] != \"x\")]\n",
    "df = df.astype({\"Cloud Cover\":\"int64\", \"Relative Humidity\":\"int64\", \"Tdry\":\"float\",\n",
    "                \"Pressure\":\"float\", \"Rain Day\": \"int64\", \"Hours of Sun\": \"float\"})\n",
    "# ^Data Sanitisation^\n",
    "print(df)\n",
    "\n",
    "isRainDay = df[[\"Rain Day\"]]\n",
    "trainingData = df\n",
    "trainingData.pop(\"Rain Day\") # Creates list of data we can use for training that does not say whether or not it is a rain day\n",
    "tensorTraining = tf.convert_to_tensor(trainingData)"
   ]
  },
  {
   "cell_type": "code",
   "execution_count": 2,
   "id": "10dafb78",
   "metadata": {
    "scrolled": false
   },
   "outputs": [
    {
     "data": {
      "text/plain": [
       "<tf.Tensor: shape=(21839, 6), dtype=float32, numpy=\n",
       "array([[-1.5969832 ,  0.11630779, -0.8705471 ,  0.6498048 , -1.3959647 ,\n",
       "        -0.81615394],\n",
       "       [-1.5969832 , -1.5530978 , -0.8873595 , -0.06319419, -0.28252012,\n",
       "         0.21601918],\n",
       "       [-1.5969832 , -0.25771007, -1.3917321 ,  1.2043595 , -1.0248165 ,\n",
       "         0.06496948],\n",
       "       ...,\n",
       "       [-1.0180241 , -1.124342  ,  0.10457302,  0.808249  ,  0.8309245 ,\n",
       "        -0.23712999],\n",
       "       [-1.0180241 , -1.0057514 , -0.06355114,  0.9666932 ,  0.8309245 ,\n",
       "        -0.5895793 ],\n",
       "       [-1.0180241 , -0.06614104, -0.48386154, -0.69697106, -0.65366834,\n",
       "        -0.7406291 ]], dtype=float32)>"
      ]
     },
     "execution_count": 2,
     "metadata": {},
     "output_type": "execute_result"
    }
   ],
   "source": [
    "normalizer = Normalization(axis=-1)\n",
    "normalizer.adapt(tensorTraining)\n",
    "normalizer(tensorTraining[0:])"
   ]
  },
  {
   "cell_type": "code",
   "execution_count": 24,
   "id": "247e3034",
   "metadata": {},
   "outputs": [
    {
     "name": "stdout",
     "output_type": "stream",
     "text": [
      "Epoch 1/15\n",
      "6/6 [==============================] - 0s 2ms/step - loss: 0.9415 - accuracy: 0.5604\n",
      "Epoch 2/15\n",
      "6/6 [==============================] - 0s 3ms/step - loss: 0.9183 - accuracy: 0.5653\n",
      "Epoch 3/15\n",
      "6/6 [==============================] - 0s 2ms/step - loss: 0.9013 - accuracy: 0.5729\n",
      "Epoch 4/15\n",
      "6/6 [==============================] - 0s 3ms/step - loss: 0.8860 - accuracy: 0.5791\n",
      "Epoch 5/15\n",
      "6/6 [==============================] - 0s 3ms/step - loss: 0.8717 - accuracy: 0.5874\n",
      "Epoch 6/15\n",
      "6/6 [==============================] - 0s 3ms/step - loss: 0.8579 - accuracy: 0.5978\n",
      "Epoch 7/15\n",
      "6/6 [==============================] - 0s 3ms/step - loss: 0.8445 - accuracy: 0.6085\n",
      "Epoch 8/15\n",
      "6/6 [==============================] - 0s 3ms/step - loss: 0.8315 - accuracy: 0.6194\n",
      "Epoch 9/15\n",
      "6/6 [==============================] - 0s 2ms/step - loss: 0.8192 - accuracy: 0.6315\n",
      "Epoch 10/15\n",
      "6/6 [==============================] - 0s 2ms/step - loss: 0.8077 - accuracy: 0.6411\n",
      "Epoch 11/15\n",
      "6/6 [==============================] - 0s 2ms/step - loss: 0.7968 - accuracy: 0.6510\n",
      "Epoch 12/15\n",
      "6/6 [==============================] - 0s 2ms/step - loss: 0.7867 - accuracy: 0.6609\n",
      "Epoch 13/15\n",
      "6/6 [==============================] - 0s 2ms/step - loss: 0.7774 - accuracy: 0.6664\n",
      "Epoch 14/15\n",
      "6/6 [==============================] - 0s 2ms/step - loss: 0.7688 - accuracy: 0.6720\n",
      "Epoch 15/15\n",
      "6/6 [==============================] - 0s 2ms/step - loss: 0.7607 - accuracy: 0.6774\n",
      "683/683 [==============================] - 1s 758us/step\n",
      "Time Taken:1.5222244262695312\n"
     ]
    }
   ],
   "source": [
    "def getModel(): # Fairly heavily modified code from https://www.tensorflow.org/tutorials/load_data/pandas_dataframe\n",
    "    model = keras.Sequential([normalizer, Dense(10, activation=\"relu\"), Dense(1)])\n",
    "    \n",
    "    model.compile(optimizer=\"rmsprop\", loss=\"Hinge\", metrics=[\"accuracy\"])\n",
    "    return model\n",
    "\n",
    "startTime = time.time()\n",
    "model = getModel()\n",
    "model.fit(tensorTraining, isRainDay, epochs=15, batch_size=4000)\n",
    "predicts = model.predict(tensorTraining)\n",
    "predicts\n",
    "endTime = time.time()\n",
    "print(f\"Time Taken:{endTime-startTime}\")"
   ]
  },
  {
   "cell_type": "code",
   "execution_count": 22,
   "id": "b1a156dd",
   "metadata": {},
   "outputs": [
    {
     "name": "stdout",
     "output_type": "stream",
     "text": [
      "[0]\ttrain-error:0.56546\teval-error:0.56546\n",
      "[1]\ttrain-error:0.32181\teval-error:0.32181\n",
      "[2]\ttrain-error:0.28463\teval-error:0.28463\n",
      "[3]\ttrain-error:0.23696\teval-error:0.23696\n",
      "[4]\ttrain-error:0.21594\teval-error:0.21594\n",
      "[5]\ttrain-error:0.19790\teval-error:0.19790\n",
      "[6]\ttrain-error:0.18421\teval-error:0.18421\n",
      "[7]\ttrain-error:0.17519\teval-error:0.17519\n",
      "[8]\ttrain-error:0.16576\teval-error:0.16576\n",
      "[9]\ttrain-error:0.16054\teval-error:0.16054\n",
      "[10]\ttrain-error:0.15170\teval-error:0.15170\n",
      "[11]\ttrain-error:0.14625\teval-error:0.14625\n",
      "[12]\ttrain-error:0.14057\teval-error:0.14057\n",
      "[13]\ttrain-error:0.13499\teval-error:0.13499\n",
      "[14]\ttrain-error:0.12986\teval-error:0.12986\n",
      "Time Taken:0.37100839614868164\n"
     ]
    }
   ],
   "source": [
    "import time\n",
    "\n",
    "xgtrain = xgb.DMatrix(df, label=isRainDay)\n",
    "xgtest = xgb.DMatrix(df, label=isRainDay)\n",
    "evallist = [(xgtrain, \"train\"), (xgtest, \"eval\")]\n",
    "\n",
    "rounds = 15\n",
    "parameters = {\"max_depth\": 25, \"objective\": \"binary:hinge\", \"subsample\": 0.25}\n",
    "\n",
    "startTime = time.time()\n",
    "training = xgb.train(parameters, xgtrain, rounds, evallist)\n",
    "endTime = time.time()\n",
    "print(f\"Time Taken:{endTime-startTime}\")"
   ]
  },
  {
   "cell_type": "code",
   "execution_count": 5,
   "id": "18d86e96",
   "metadata": {
    "collapsed": true
   },
   "outputs": [
    {
     "name": "stdout",
     "output_type": "stream",
     "text": [
      "       Rain Day   month  Pressure  Tdry  Relative Humidity  Cloud Cover  \\\n",
      "34159         1       7    1002.2  17.1                 79            6   \n",
      "29366         1       5    1005.0  12.8                 91            8   \n",
      "19602         0       9    1022.6  16.3                 87            8   \n",
      "23217         0       7    1011.6  18.1                 79            7   \n",
      "28832         1      12    1009.6   5.4                 75            1   \n",
      "...         ...     ...       ...   ...                ...          ...   \n",
      "32008         0       8    1018.1  23.4                 50            2   \n",
      "35290         0       8    1014.4  17.6                 86            8   \n",
      "37049         1       6    1002.2  10.8                 80            8   \n",
      "34866         0       6    1007.2  21.0                 66            8   \n",
      "40330         0       6    1014.0  17.5                 80            7   \n",
      "\n",
      "       Hours of Sun  \n",
      "34159           3.4  \n",
      "29366           4.1  \n",
      "19602           7.9  \n",
      "23217           9.3  \n",
      "28832           5.6  \n",
      "...             ...  \n",
      "32008          11.9  \n",
      "35290           2.7  \n",
      "37049           1.9  \n",
      "34866           3.9  \n",
      "40330           9.8  \n",
      "\n",
      "[16379 rows x 7 columns]\n"
     ]
    }
   ],
   "source": [
    "# Doesn't work, keeping around just in case i think of a use for it\n",
    "df.insert(0, \"Rain Day\", isRainDay)\n",
    "trainingSet = df.sample(frac = 0.75)\n",
    "testingSet = pd.merge(df, trainingSet, indicator=True, how=\"outer\")\\\n",
    "            .query(\"_merge=='left_only'\").drop(\"_merge\", axis=1)\n",
    "print(trainingSet)"
   ]
  },
  {
   "cell_type": "code",
   "execution_count": null,
   "id": "cb61f4fe",
   "metadata": {},
   "outputs": [],
   "source": []
  }
 ],
 "metadata": {
  "kernelspec": {
   "display_name": "Python 3 (ipykernel)",
   "language": "python",
   "name": "python3"
  },
  "language_info": {
   "codemirror_mode": {
    "name": "ipython",
    "version": 3
   },
   "file_extension": ".py",
   "mimetype": "text/x-python",
   "name": "python",
   "nbconvert_exporter": "python",
   "pygments_lexer": "ipython3",
   "version": "3.7.9"
  }
 },
 "nbformat": 4,
 "nbformat_minor": 5
}
